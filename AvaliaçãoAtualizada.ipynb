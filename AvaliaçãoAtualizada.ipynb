{
  "nbformat": 4,
  "nbformat_minor": 0,
  "metadata": {
    "colab": {
      "provenance": [],
      "authorship_tag": "ABX9TyOYVyrqm5xSb2laz9WDFQ22",
      "include_colab_link": true
    },
    "kernelspec": {
      "name": "python3",
      "display_name": "Python 3"
    },
    "language_info": {
      "name": "python"
    }
  },
  "cells": [
    {
      "cell_type": "markdown",
      "metadata": {
        "id": "view-in-github",
        "colab_type": "text"
      },
      "source": [
        "<a href=\"https://colab.research.google.com/github/Marcosvinici4s/Repositorio-simples/blob/main/Avalia%C3%A7%C3%A3oAtualizada.ipynb\" target=\"_parent\"><img src=\"https://colab.research.google.com/assets/colab-badge.svg\" alt=\"Open In Colab\"/></a>"
      ]
    },
    {
      "cell_type": "markdown",
      "source": [
        "Comentario"
      ],
      "metadata": {
        "id": "pK7twlcJrrrj"
      }
    },
    {
      "cell_type": "code",
      "execution_count": null,
      "metadata": {
        "id": "2bSl_ZQf1iOx"
      },
      "outputs": [],
      "source": [
        "# O comentario em phyton é usado para anotar algo no codigo sem modifica-lo.\n",
        "# Para comentar em um codigo basta inserir o \"#\" antes do que deseja anotar em qualquer parte do codigo. Segue exemplo:\n",
        "\n",
        "n1= int (input(\"insira os km's:\")) # \"input\" usado para ler o valor inserido pelo usuario e o int e usado para deixar o numero inserido como um numero inteiro\n",
        "n2= int (input(\"insira os litros usados:\")) # \"input\" usado para ler o valor inserido pelo usuario\n",
        "n3 = n1 / n2 # dividir os valores\n",
        "\n",
        "print('seu consumo medio é:',  n3, \"km/L\") # o \"print\" mostra os resultados."
      ]
    },
    {
      "cell_type": "markdown",
      "source": [
        "Variaveis e Tipo de dados"
      ],
      "metadata": {
        "id": "9DPHXKeVG3FF"
      }
    },
    {
      "cell_type": "code",
      "source": [
        "# Variavel uma variável é um nome associado a um valor.\n",
        "# A variavel pode ter qualquer tipo de nome, contando que não possua \"-\",\" \", ou apenas numeros no nome.\n",
        "\n",
        "x = 10 # o que foi feito? foi feito a atribuição do valor \"10\" á variavel \"x\"\n",
        "y = \"João\" # a mesma coisa aqui, foi feito a atribuição do nome \"João\" á variavel \"y\"\n",
        "\n",
        "print(x)\n",
        "print(y) # em ambas linhas foi pedido para lerem as variaves já declaradas.\n",
        "\n",
        "# Existem varios tipos de variaveis.\n",
        "\n",
        "# float: define a variavel como variavel com numeros com \",\"\n",
        "# exemplo float:\n",
        "z = float(10)\n",
        "print(z)\n",
        "\n",
        "# str: define a variavel como variavel com texto\n",
        "# exemplo:\n",
        "print(y)\n",
        "print(type(y))\n",
        "\n",
        "# int: define a variavel como variavel com numeros sem \",\", um numero inteiro.\n",
        "# exemplo:\n",
        "print(x)\n",
        "print(type(x))\n",
        "\n",
        "# Tipos de sequência:\tlist e tuple.\n",
        "\n",
        "# list: é um tipo de sequencia. list é possivel alterar ao longo do codigo.\n",
        "# exemplo:\n",
        "a = [\"pera\", \"banana\", \"maracuja\"]\n",
        "print(a)\n",
        "print(type(a))\n",
        "\n",
        "# tuple: tuplas são compostas por vários itens, assim como uma lista, mas não podem ser modificadas de forma alguma.\n",
        "# exemplo:\n",
        "b = (\"macaxeira\", \"pepino\", \"mamão\")\n",
        "print(b)\n",
        "print(type(b))\n",
        "\n",
        "\n",
        "\n"
      ],
      "metadata": {
        "id": "K5VjWhMq3iEe"
      },
      "execution_count": null,
      "outputs": []
    },
    {
      "cell_type": "markdown",
      "source": [
        "Casting"
      ],
      "metadata": {
        "id": "kySVlP-GGzrs"
      }
    },
    {
      "cell_type": "code",
      "source": [
        "# Casting: é quando você quer especificar um tipo para uma variavel.\n",
        "x = str(\"Marcos\")\n",
        "y = int(2)\n",
        "z = float(5)\n",
        "\n",
        "\n",
        "print(type(x))\n",
        "print(type(y))\n",
        "print(type(z))\n"
      ],
      "metadata": {
        "id": "7exoQSHz-h3e",
        "colab": {
          "base_uri": "https://localhost:8080/"
        },
        "outputId": "f1d1dd80-08d3-4a8f-bd33-8ef8f5b7ae07"
      },
      "execution_count": 25,
      "outputs": [
        {
          "output_type": "stream",
          "name": "stdout",
          "text": [
            "<class 'str'>\n",
            "<class 'int'>\n",
            "<class 'float'>\n"
          ]
        }
      ]
    },
    {
      "cell_type": "markdown",
      "source": [
        "Strings"
      ],
      "metadata": {
        "id": "mP0sjQXgGxsG"
      }
    },
    {
      "cell_type": "code",
      "source": [
        "# Strings: é uma sequência de caracteres. Você pode criar uma string usando aspas simples (' '), aspas duplas (\" \") ou até mesmo aspas triplas (''' ''' ou \"\"\" \"\"\").\n",
        "# exemplo:\n",
        "\n",
        "print(\"Marcos\")\n",
        "a = str(\"Marcos\") # esse exemplo e para atribuir uma string a variavel \"a\"\n",
        "\n",
        "# Fatiamento de strings\n",
        "\n",
        "# consigo manusear cada caractere da minha string\n",
        "\n",
        "saudacao = \"Hello World\" # variavel ja definida\n",
        "print(saudacao)\n",
        "\n",
        "print(saudacao[0]) # imprime a posição 0\n",
        "print(saudacao[7]) # imprime a posição 7\n",
        "print(saudacao[0:5]) # imprime as posições 0,1,2,3,4\n",
        "print(saudacao[6::]) # imprime do 6 até o fim\n",
        "print(saudacao[0], saudacao[1]) # imprimiu com espaço\n",
        "print(saudacao[0] + saudacao[1]) # concatenou... juntou\n",
        "print(saudacao[0], \" - \", saudacao[1], \" _ \", saudacao[2]) # contatenou os 2\n",
        "\n",
        "# Modificar as strings\n",
        "# O \"upper()\" deixa a string em maiúsculas.\n",
        "# exemplo:\n",
        "b = \"Marcos Vinicius\"\n",
        "print(a.upper())\n",
        "\n",
        "# O \"lower()\" deixa a string em letras minúsculas.\n",
        "# exemplo:\n",
        "c = \"Bom dia!\"\n",
        "print(a.lower())\n",
        "\n"
      ],
      "metadata": {
        "id": "Nyamrsw5L6Lp"
      },
      "execution_count": null,
      "outputs": []
    },
    {
      "cell_type": "markdown",
      "source": [
        "Operadores"
      ],
      "metadata": {
        "id": "DoW2TJaMGt3T"
      }
    },
    {
      "cell_type": "code",
      "source": [
        "# São usados para calcular valores ou variaveis.\n",
        "# exemplos de Operadores aritmeticos: \"+\" soma , \"-\" subtração, \"*\" multiplicação, \"/\"divisão e \"**\" Exponenciação .\n",
        "resultado = 5 + 3  # resultado será 8\n",
        "resultado1 = 5 - 3  # resultado será 2\n",
        "print(resultado, resultado1)\n",
        "\n",
        "\n",
        "# Operadores de comparação: \"==\" , siginifica igual.\n",
        "x = 5\n",
        "y = 5\n",
        "resultado2 = (x == y)  # resultado será True\n",
        "print(resultado2)\n",
        "\n",
        "# operadores de comparação: \"!=\" , siginifica não é igual.\n",
        "# operadores de comparação: \">\" , siginifica maior que.\n",
        "# operadores de comparação: \"<\" , siginifica menor que.\n",
        "# operadores de comparação: \">=\" , siginifica maior ou igual a.\n",
        "# operadores de comparação: \"<=\" , siginifica menor ou igual a .\n",
        "\n",
        "# Operadores logicos: \"and\", Imprime True se ambas as afirmações forem verdadeiras.\n",
        "a = True\n",
        "b = False\n",
        "resultado3 = a and b  # resultado será False\n",
        "print(resultado3)\n",
        "\n",
        "# operadores logicos: \"not\", Inverte o resultado, imprime False se o resultado for verdadeiro.\n",
        "e = True\n",
        "resultado4 = not e  # resultado será False\n",
        "print(resultado4)\n",
        "\n",
        "# operadores logicos: \"or\", Imprime True se uma das afirmações for verdadeira.\n",
        "c = True\n",
        "d = False\n",
        "resultado5 = c or d  # resultado será True\n",
        "print(resultado5)\n",
        "\n",
        "\n",
        "\n",
        "\n"
      ],
      "metadata": {
        "id": "bjRWzjRiPrOz",
        "colab": {
          "base_uri": "https://localhost:8080/"
        },
        "outputId": "35f0361e-cd75-4fad-b147-61d05b324b5b"
      },
      "execution_count": 26,
      "outputs": [
        {
          "output_type": "stream",
          "name": "stdout",
          "text": [
            "8 2\n",
            "True\n",
            "False\n",
            "False\n",
            "True\n"
          ]
        }
      ]
    },
    {
      "cell_type": "markdown",
      "source": [
        "Estrutura de condição"
      ],
      "metadata": {
        "id": "AWhPI065GqOc"
      }
    },
    {
      "cell_type": "code",
      "source": [
        "\n",
        "# \"else\" se a mesma condição for falsa\n",
        "# \"if\" se uma condição especificada for verdadeira\n",
        "# \"else if\" especificar uma nova condição a ser testada, se a primeira condição for falsa\n",
        "# exemplos:\n",
        "\n",
        "x = 5\n",
        "\n",
        "if x > 0: # Verifica se x é maior que 0\n",
        "    print(\"x é positivo\")\n",
        "\n",
        "y = -2\n",
        "\n",
        "if y > 0: # Verifica se y é maior que 0\n",
        "    print(\"x é positivo\")\n",
        "else:\n",
        "    print(\"x não é positivo\")\n",
        "\n",
        "idade = 20\n",
        "\n",
        "# Verifica se a idade é menor que 18\n",
        "if idade < 18:\n",
        "    print(\"Menor de idade\")\n",
        "# Verifica se a idade é igual a 18\n",
        "elif idade == 18:\n",
        "    print(\"Tem 18 anos\")\n",
        "# Se nenhuma das condições anteriores for atendida\n",
        "else:\n",
        "    print(\"Maior de idade\")\n",
        "\n",
        "\n",
        "\n",
        "\n",
        "\n"
      ],
      "metadata": {
        "id": "lQAQMc9-VT76"
      },
      "execution_count": null,
      "outputs": []
    },
    {
      "cell_type": "markdown",
      "source": [
        "Estrutura de repetição"
      ],
      "metadata": {
        "id": "r_sutCnPGlzp"
      }
    },
    {
      "cell_type": "code",
      "source": [
        "# for é uma das estruturas de repetições disponíveis na linguagem que permite a execução de um mesmo comando até que uma determinada condição seja atendida.\n",
        "\n",
        "# range cria uma sequência de números\n",
        "\n",
        "for x in range(15,25): # codigo que executa numeros do 15 ate a busca final que é o 24.\n",
        "  print(x)\n",
        "\n",
        "\n",
        "contador = 0\n",
        "\n",
        "while contador < 10 : # while Testa a condição; Se a condição for falsa então pula todos os comandos do bloco subordinado ao while e passa a executar os comandos após o bloco do while\n",
        "  print(contador)\n",
        "  contador += 1\n"
      ],
      "metadata": {
        "id": "ud1dzdmwaW2i"
      },
      "execution_count": null,
      "outputs": []
    },
    {
      "cell_type": "markdown",
      "source": [
        "BeatifulSoup e Excel"
      ],
      "metadata": {
        "id": "gfgz-6S4GcmY"
      }
    },
    {
      "cell_type": "code",
      "source": [
        "# Beautiful Soup é uma biblioteca Python usada para extrair dados de documentos HTML e XML.\n",
        "# É normalmente usada para fazer web scraping, ou seja, coletar informações de páginas da web.\n",
        "# A biblioteca Beautiful Soup analisa o conteúdo HTML/XML de uma página da web e fornece métodos para navegar, pesquisar e modificar a árvore de análise, permitindo que você extraia facilmente os dados desejados.\n",
        "\n",
        "from bs4 import BeautifulSoup\n",
        "import requests # requests é uma biblioteca Python para fazer solicitações HTTP, permitindo interações com recursos da web, como baixar conteúdo de páginas da web ou interagir com APIs.\n",
        "\n",
        "# URL da página da web que você deseja analisar\n",
        "url = 'https://www.example.com'\n",
        "\n",
        "# Enviar uma solicitação para a URL e obter o conteúdo da página\n",
        "response = requests.get(url)\n",
        "\n",
        "# Criar um objeto BeautifulSoup para analisar o conteúdo HTML da página\n",
        "soup = BeautifulSoup(response.text, 'html.parser')\n",
        "\n",
        "# Encontrar e imprimir o título da página\n",
        "title = soup.title\n",
        "print(title.text)\n"
      ],
      "metadata": {
        "id": "vaz_2HYMHSBL"
      },
      "execution_count": null,
      "outputs": []
    },
    {
      "cell_type": "code",
      "source": [
        "import requests\n",
        "from bs4 import BeautifulSoup\n",
        "from openpyxl import Workbook\n",
        "\n",
        "# Faz a solicitação HTTP e cria o objeto BeautifulSoup\n",
        "url = \"https://www.scrapethissite.com/pages/forms//\"\n",
        "page = requests.get(url)\n",
        "soup = BeautifulSoup(page.text, 'html.parser')\n",
        "\n",
        "# Encontra a tabela no HTML\n",
        "tabela = soup.find('table')\n",
        "print(tabela)\n",
        "\n",
        "# Cria um novo Workbook do Excel\n",
        "wb = Workbook()\n",
        "ws = wb.active\n",
        "\n",
        "# Extrai os dados da tabela e escreve no Workbook\n",
        "linhas = tabela.find_all('tr')\n",
        "for row_index, linha in enumerate(linhas, start=1):\n",
        "\n",
        "\n",
        "# Este loop itera sobre cada linha (linha) na lista de linhas (linhas) da tabela.\n",
        "# A função enumerate() é usada para obter tanto o índice (row_index) quanto o objeto linha em cada iteração.\n",
        "# start=1 é usado para garantir que o índice das linhas comece em 1 não em 0.\n",
        "\n",
        "    colunas = linha.find_all(['td', 'th'])\n",
        "\n",
        "# colunas = linha.find_all(['td' 'th'])\n",
        "# Aqui usamos o método find_all() para encontrar todas as ocorrências das tags <td> (células de dados) e <th> (células de cabeçalho) dentro da linha atual (linha) da tabela.\n",
        "# Isso nos dá uma lista de objetos BeautifulSoup representando as células na linha atual.\n",
        "\n",
        "    for col_index, coluna in enumerate(colunas, start=1):\n",
        "\n",
        "\n",
        "# Este é um loop aninhado que itera sobre cada célula (coluna) na lista de células (colunas) da linha atual.\n",
        "# Assim como antes enumerate() é usado para obter tanto o índice (col_index) quanto o objeto coluna em cada iteração.\n",
        "# start=1 é usado para garantir que o índice das colunas comece em 1 não em 0.\n",
        "\n",
        "        ws.cell(row=row_index, column=col_index, value=coluna.text.strip())\n",
        "\n",
        "\n",
        "# Aqui estamos usando o método cell() do objeto Worksheet (ws) para acessar uma célula específica no Workbook do Excel.\n",
        "# row=row_index column=col_index especifica a posição da célula onde row_index é o índice da linha e col_index é o índice da coluna.\n",
        "# value=coluna.text.strip() define o valor da célula como o texto contido na célula HTML (coluna). O método text retorna o texto dentro da tag HTML e strip() é usado para remover espaços em branco extras ao redor do texto.\n",
        "# Resumindo este loop percorre cada célula na tabela HTML lendo o texto de cada célula e escrevendo-o em uma célula correspondente no arquivo Excel.\n",
        "# Ele usa os índices das linhas e colunas para garantir que os dados sejam escritos nas células corretas.\n",
        "\n",
        "# Salva o Workbook em um arquivo Excel\n",
        "nome_arquivo_excel = \"tabela_excel_openpyxl.xlsx\"\n",
        "wb.save(nome_arquivo_excel)\n",
        "\n",
        "print(f\"Tabela salva com sucesso em '{nome_arquivo_excel}'\")"
      ],
      "metadata": {
        "id": "74lWnS2Zb-E7"
      },
      "execution_count": null,
      "outputs": []
    }
  ]
}